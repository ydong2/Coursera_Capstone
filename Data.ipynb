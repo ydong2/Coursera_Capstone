{
 "cells": [
  {
   "cell_type": "markdown",
   "metadata": {},
   "source": [
    "Capstone Project: Segmenting and Clustering the School District Offices in the San Mateo County, California"
   ]
  },
  {
   "cell_type": "markdown",
   "metadata": {},
   "source": [
    "Introduction/Business Problem"
   ]
  },
  {
   "cell_type": "markdown",
   "metadata": {},
   "source": [
    "The San Mateo County Office of Education, where I currently work for, supports 23 school districts in the county. Although the county office building is often used to host events and meetings for the districts, it is not always the best location for specific purposes. For example, there is only one small cafeteria near the county office building, so it is hard for people who attend large events such as Educator Recruitment Fair to find places to eat and chat. The location of the county office building is also not ideal for events about outdoor education and arts. Therefore, the county office may seek opportunities to partner with the districts and hosts the events and meetings in the district offices. The purpose of this project is to leverage the Foursquare location data to help the county office leadership decide which district offices are most appropriate for hosting certain events. "
   ]
  }
 ],
 "metadata": {
  "kernelspec": {
   "display_name": "Python",
   "language": "python",
   "name": "conda-env-python-py"
  },
  "language_info": {
   "codemirror_mode": {
    "name": "ipython",
    "version": 3
   },
   "file_extension": ".py",
   "mimetype": "text/x-python",
   "name": "python",
   "nbconvert_exporter": "python",
   "pygments_lexer": "ipython3",
   "version": "3.6.10"
  }
 },
 "nbformat": 4,
 "nbformat_minor": 4
}
