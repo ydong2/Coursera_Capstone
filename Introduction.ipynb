{
 "cells": [
  {
   "cell_type": "markdown",
   "metadata": {},
   "source": [
    "Capstone Project: Segmenting and Clustering the School District Offices in the San Mateo County, California"
   ]
  },
  {
   "cell_type": "markdown",
   "metadata": {},
   "source": [
    "Data"
   ]
  },
  {
   "cell_type": "markdown",
   "metadata": {},
   "source": [
    "There will be two main data sources for this project:\n",
    "1. The Foursquare location data: I will use the Foursquare API to explore school districts in San Mateo County. I will use the explore function to get the most common venue categories near each school district, and then use this feature to group the districts into clusters.\n",
    "2. District list and location: This data will be retrieved from the official website of California Department of Education. The public districts data files are posted in Excel and tab delimited text formats. They are dynamically driven and reflect real-time data. The data files include the location (street address, Latitude, and Longitude) and contact information for all the school districts in California. I will need to clean the file to only keep the districts in San Mateo County. The file structure is also available on the same web page https://www.cde.ca.gov/ds/si/ds/pubschls.asp, which includes the descriptions of the elements in the downloadable public districts files. "
   ]
  }
 ],
 "metadata": {
  "kernelspec": {
   "display_name": "Python",
   "language": "python",
   "name": "conda-env-python-py"
  },
  "language_info": {
   "codemirror_mode": {
    "name": "ipython",
    "version": 3
   },
   "file_extension": ".py",
   "mimetype": "text/x-python",
   "name": "python",
   "nbconvert_exporter": "python",
   "pygments_lexer": "ipython3",
   "version": "3.6.10"
  }
 },
 "nbformat": 4,
 "nbformat_minor": 4
}
